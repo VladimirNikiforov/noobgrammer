{
 "cells": [
  {
   "cell_type": "code",
   "execution_count": 1,
   "metadata": {},
   "outputs": [],
   "source": [
    "from IPython.core.interactiveshell import InteractiveShell\n",
    "InteractiveShell.ast_node_interactivity = \"all\""
   ]
  },
  {
   "cell_type": "code",
   "execution_count": 2,
   "metadata": {},
   "outputs": [],
   "source": [
    "import pandas as pd\n",
    "import numpy as np\n",
    "import matplotlib.pyplot as plt\n",
    "%matplotlib inline"
   ]
  },
  {
   "cell_type": "code",
   "execution_count": 3,
   "metadata": {},
   "outputs": [],
   "source": [
    "path = \"Consumer_Complaints.csv\""
   ]
  },
  {
   "cell_type": "code",
   "execution_count": 32,
   "metadata": {},
   "outputs": [],
   "source": [
    "# creating a generator object which spits out DataFrames (df) of size 5000 each upon calling the next() function\n",
    "# because the whole file is 500 MB so, it takes a while to load it completely and it also eats up a lot of memory\n",
    "\n",
    "# this generator can also be put into a for loop to continuously spit DataFrames\n",
    "\n",
    "df_reader = pd.read_csv(path,parse_dates=[\"Date received\",\"Date sent to company\"],chunksize=5000)"
   ]
  },
  {
   "cell_type": "code",
   "execution_count": 33,
   "metadata": {},
   "outputs": [],
   "source": [
    "df = next(df_reader)"
   ]
  },
  {
   "cell_type": "code",
   "execution_count": 34,
   "metadata": {},
   "outputs": [
    {
     "data": {
      "text/plain": [
       "Index(['Date received', 'Product', 'Sub-product', 'Issue', 'Sub-issue',\n",
       "       'Consumer complaint narrative', 'Company public response', 'Company',\n",
       "       'State', 'ZIP code', 'Tags', 'Consumer consent provided?',\n",
       "       'Submitted via', 'Date sent to company', 'Company response to consumer',\n",
       "       'Timely response?', 'Consumer disputed?', 'Complaint ID'],\n",
       "      dtype='object')"
      ]
     },
     "execution_count": 34,
     "metadata": {},
     "output_type": "execute_result"
    }
   ],
   "source": [
    "# as you can see, the column names are quite messy with '-' (minus) instead of '_' (underscore)\n",
    "# and also there are '?' (question marks) in the names and white spaces between words\n",
    "# so, lets first clean the column names by renaming them\n",
    "\n",
    "df.columns"
   ]
  },
  {
   "cell_type": "code",
   "execution_count": null,
   "metadata": {},
   "outputs": [],
   "source": [
    "# you can do the renaming manually\n",
    "'''\n",
    "new_columns = [\"date_received\",\"product\",\"sub_product\",\"issue\",\"sub_issue\",\"consumer_complaint_narrative\",\n",
    "              \"company_public_response\",\"company\",\"state\",\"zip_code\",\"tags\",\"consumer_consent\",\"submitted_way\",\n",
    "              \"date_sent\",\"company_response\",\"timely_response\",\"consumer_disputed\",\"complaint_ID\"]\n",
    "\n",
    "df.columns = new_columns\n",
    "\n",
    "'''"
   ]
  },
  {
   "cell_type": "code",
   "execution_count": null,
   "metadata": {},
   "outputs": [],
   "source": [
    "# or you can automate it in a simple way\n",
    "# just take the column name and change it into lowercase, replace white spaces with underscores,\n",
    "# remove any unusual symbols like '?' and you are done!\n",
    "\n",
    "new_columns = [name.lower().replace(' ','_').replace('-','_').replace('?','') for name in df.columns]\n",
    "new_columns\n",
    "\n",
    "df.columns = new_columns\n",
    "\n",
    "# but this method has a drawback. that is, the column names are sometimes too long\n",
    "# eg: 'company_response_to_consumer'\n",
    "# if you want then you can selectively rename a column like this\n",
    "\n",
    "df.rename(columns={'company_response_to_consumer' : 'company_response', \n",
    "                   'date_sent_to_company' : 'date_sent', \n",
    "                   'consumer_complaint_narrative' : 'complaint_narrative'}, \n",
    "          inplace=True)\n",
    "\n",
    "df.columns"
   ]
  },
  {
   "cell_type": "code",
   "execution_count": null,
   "metadata": {},
   "outputs": [],
   "source": [
    "# you can also do the removal of special symbols and selective renaming at the same time\n",
    "# to do this, you first have to create a function (also called a mapper function) to remove \n",
    "# special characters.\n",
    "# you can also use 'lambda functions' if you want\n",
    "\n",
    "# instead of '.replace()' you can use regular expressions for more efficiency and flexibility \n",
    "# but lets not make this complicated for now"
   ]
  },
  {
   "cell_type": "code",
   "execution_count": null,
   "metadata": {},
   "outputs": [],
   "source": [
    "# using mapper function:\n",
    "\n",
    "def rename_func(name):\n",
    "    return name.lower().replace(' ','_').replace('-','_').replace('?','')\n",
    "\n",
    "# first remove the special characters using pre defined function\n",
    "df.rename(mapper=rename_func, \n",
    "          axis = 1,\n",
    "          inplace=True)"
   ]
  },
  {
   "cell_type": "code",
   "execution_count": 35,
   "metadata": {},
   "outputs": [],
   "source": [
    "# or use a lambda function:\n",
    "df.rename(mapper= lambda x: x.lower().replace(' ','_').replace('-','_').replace('?',''), \n",
    "          axis=1, \n",
    "          inplace=True)"
   ]
  },
  {
   "cell_type": "code",
   "execution_count": 36,
   "metadata": {},
   "outputs": [
    {
     "name": "stdout",
     "output_type": "stream",
     "text": [
      "Index(['date_received', 'product', 'sub_product', 'issue', 'sub_issue',\n",
      "       'complaint_narrative', 'company_public_response', 'company', 'state',\n",
      "       'zip_code', 'tags', 'consumer_consent_provided', 'submitted_via',\n",
      "       'date_sent', 'company_response', 'timely_response', 'consumer_disputed',\n",
      "       'complaint_id'],\n",
      "      dtype='object')\n"
     ]
    }
   ],
   "source": [
    "# then selectively rename\n",
    "df.rename(columns = {'company_response_to_consumer' : 'company_response', \n",
    "                   'date_sent_to_company' : 'date_sent', \n",
    "                   'consumer_complaint_narrative' : 'complaint_narrative'},\n",
    "          inplace=True)\n",
    "\n",
    "print(df.columns)\n",
    "\n",
    "# sadly, pandas wont allow you to do both at the same time"
   ]
  },
  {
   "cell_type": "code",
   "execution_count": 37,
   "metadata": {},
   "outputs": [
    {
     "name": "stdout",
     "output_type": "stream",
     "text": [
      "<class 'pandas.core.frame.DataFrame'>\n",
      "RangeIndex: 5000 entries, 0 to 4999\n",
      "Data columns (total 18 columns):\n",
      "date_received                5000 non-null datetime64[ns]\n",
      "product                      5000 non-null object\n",
      "sub_product                  3495 non-null object\n",
      "issue                        5000 non-null object\n",
      "sub_issue                    2029 non-null object\n",
      "complaint_narrative          1062 non-null object\n",
      "company_public_response      1356 non-null object\n",
      "company                      5000 non-null object\n",
      "state                        4952 non-null object\n",
      "zip_code                     4952 non-null object\n",
      "tags                         735 non-null object\n",
      "consumer_consent_provided    1991 non-null object\n",
      "submitted_via                5000 non-null object\n",
      "date_sent                    5000 non-null datetime64[ns]\n",
      "company_response             5000 non-null object\n",
      "timely_response              5000 non-null object\n",
      "consumer_disputed            4922 non-null object\n",
      "complaint_id                 5000 non-null int64\n",
      "dtypes: datetime64[ns](2), int64(1), object(15)\n",
      "memory usage: 703.2+ KB\n",
      "None\n"
     ]
    },
    {
     "data": {
      "text/html": [
       "<div>\n",
       "<style scoped>\n",
       "    .dataframe tbody tr th:only-of-type {\n",
       "        vertical-align: middle;\n",
       "    }\n",
       "\n",
       "    .dataframe tbody tr th {\n",
       "        vertical-align: top;\n",
       "    }\n",
       "\n",
       "    .dataframe thead th {\n",
       "        text-align: right;\n",
       "    }\n",
       "</style>\n",
       "<table border=\"1\" class=\"dataframe\">\n",
       "  <thead>\n",
       "    <tr style=\"text-align: right;\">\n",
       "      <th></th>\n",
       "      <th>date_received</th>\n",
       "      <th>product</th>\n",
       "      <th>sub_product</th>\n",
       "      <th>issue</th>\n",
       "      <th>sub_issue</th>\n",
       "      <th>complaint_narrative</th>\n",
       "      <th>company_public_response</th>\n",
       "      <th>company</th>\n",
       "      <th>state</th>\n",
       "      <th>zip_code</th>\n",
       "      <th>tags</th>\n",
       "      <th>consumer_consent_provided</th>\n",
       "      <th>submitted_via</th>\n",
       "      <th>date_sent</th>\n",
       "      <th>company_response</th>\n",
       "      <th>timely_response</th>\n",
       "      <th>consumer_disputed</th>\n",
       "      <th>complaint_id</th>\n",
       "    </tr>\n",
       "  </thead>\n",
       "  <tbody>\n",
       "    <tr>\n",
       "      <th>0</th>\n",
       "      <td>2014-03-12</td>\n",
       "      <td>Mortgage</td>\n",
       "      <td>Other mortgage</td>\n",
       "      <td>Loan modification,collection,foreclosure</td>\n",
       "      <td>NaN</td>\n",
       "      <td>NaN</td>\n",
       "      <td>NaN</td>\n",
       "      <td>M&amp;T BANK CORPORATION</td>\n",
       "      <td>MI</td>\n",
       "      <td>48382</td>\n",
       "      <td>NaN</td>\n",
       "      <td>NaN</td>\n",
       "      <td>Referral</td>\n",
       "      <td>2014-03-17</td>\n",
       "      <td>Closed with explanation</td>\n",
       "      <td>Yes</td>\n",
       "      <td>No</td>\n",
       "      <td>759217</td>\n",
       "    </tr>\n",
       "    <tr>\n",
       "      <th>1</th>\n",
       "      <td>2016-10-01</td>\n",
       "      <td>Credit reporting</td>\n",
       "      <td>NaN</td>\n",
       "      <td>Incorrect information on credit report</td>\n",
       "      <td>Account status</td>\n",
       "      <td>I have outdated information on my credit repor...</td>\n",
       "      <td>Company has responded to the consumer and the ...</td>\n",
       "      <td>TRANSUNION INTERMEDIATE HOLDINGS, INC.</td>\n",
       "      <td>AL</td>\n",
       "      <td>352XX</td>\n",
       "      <td>NaN</td>\n",
       "      <td>Consent provided</td>\n",
       "      <td>Web</td>\n",
       "      <td>2016-10-05</td>\n",
       "      <td>Closed with explanation</td>\n",
       "      <td>Yes</td>\n",
       "      <td>No</td>\n",
       "      <td>2141773</td>\n",
       "    </tr>\n",
       "    <tr>\n",
       "      <th>2</th>\n",
       "      <td>2016-10-17</td>\n",
       "      <td>Consumer Loan</td>\n",
       "      <td>Vehicle loan</td>\n",
       "      <td>Managing the loan or lease</td>\n",
       "      <td>NaN</td>\n",
       "      <td>I purchased a new car on XXXX XXXX. The car de...</td>\n",
       "      <td>NaN</td>\n",
       "      <td>CITIZENS FINANCIAL GROUP, INC.</td>\n",
       "      <td>PA</td>\n",
       "      <td>177XX</td>\n",
       "      <td>Older American</td>\n",
       "      <td>Consent provided</td>\n",
       "      <td>Web</td>\n",
       "      <td>2016-10-20</td>\n",
       "      <td>Closed with explanation</td>\n",
       "      <td>Yes</td>\n",
       "      <td>No</td>\n",
       "      <td>2163100</td>\n",
       "    </tr>\n",
       "    <tr>\n",
       "      <th>3</th>\n",
       "      <td>2014-06-08</td>\n",
       "      <td>Credit card</td>\n",
       "      <td>NaN</td>\n",
       "      <td>Bankruptcy</td>\n",
       "      <td>NaN</td>\n",
       "      <td>NaN</td>\n",
       "      <td>NaN</td>\n",
       "      <td>AMERICAN EXPRESS COMPANY</td>\n",
       "      <td>ID</td>\n",
       "      <td>83854</td>\n",
       "      <td>Older American</td>\n",
       "      <td>NaN</td>\n",
       "      <td>Web</td>\n",
       "      <td>2014-06-10</td>\n",
       "      <td>Closed with explanation</td>\n",
       "      <td>Yes</td>\n",
       "      <td>Yes</td>\n",
       "      <td>885638</td>\n",
       "    </tr>\n",
       "    <tr>\n",
       "      <th>4</th>\n",
       "      <td>2014-09-13</td>\n",
       "      <td>Debt collection</td>\n",
       "      <td>Credit card</td>\n",
       "      <td>Communication tactics</td>\n",
       "      <td>Frequent or repeated calls</td>\n",
       "      <td>NaN</td>\n",
       "      <td>NaN</td>\n",
       "      <td>CITIBANK, N.A.</td>\n",
       "      <td>VA</td>\n",
       "      <td>23233</td>\n",
       "      <td>NaN</td>\n",
       "      <td>NaN</td>\n",
       "      <td>Web</td>\n",
       "      <td>2014-09-13</td>\n",
       "      <td>Closed with explanation</td>\n",
       "      <td>Yes</td>\n",
       "      <td>Yes</td>\n",
       "      <td>1027760</td>\n",
       "    </tr>\n",
       "  </tbody>\n",
       "</table>\n",
       "</div>"
      ],
      "text/plain": [
       "  date_received           product     sub_product  \\\n",
       "0    2014-03-12          Mortgage  Other mortgage   \n",
       "1    2016-10-01  Credit reporting             NaN   \n",
       "2    2016-10-17     Consumer Loan    Vehicle loan   \n",
       "3    2014-06-08       Credit card             NaN   \n",
       "4    2014-09-13   Debt collection     Credit card   \n",
       "\n",
       "                                      issue                   sub_issue  \\\n",
       "0  Loan modification,collection,foreclosure                         NaN   \n",
       "1    Incorrect information on credit report              Account status   \n",
       "2                Managing the loan or lease                         NaN   \n",
       "3                                Bankruptcy                         NaN   \n",
       "4                     Communication tactics  Frequent or repeated calls   \n",
       "\n",
       "                                 complaint_narrative  \\\n",
       "0                                                NaN   \n",
       "1  I have outdated information on my credit repor...   \n",
       "2  I purchased a new car on XXXX XXXX. The car de...   \n",
       "3                                                NaN   \n",
       "4                                                NaN   \n",
       "\n",
       "                             company_public_response  \\\n",
       "0                                                NaN   \n",
       "1  Company has responded to the consumer and the ...   \n",
       "2                                                NaN   \n",
       "3                                                NaN   \n",
       "4                                                NaN   \n",
       "\n",
       "                                  company state zip_code            tags  \\\n",
       "0                    M&T BANK CORPORATION    MI    48382             NaN   \n",
       "1  TRANSUNION INTERMEDIATE HOLDINGS, INC.    AL    352XX             NaN   \n",
       "2          CITIZENS FINANCIAL GROUP, INC.    PA    177XX  Older American   \n",
       "3                AMERICAN EXPRESS COMPANY    ID    83854  Older American   \n",
       "4                          CITIBANK, N.A.    VA    23233             NaN   \n",
       "\n",
       "  consumer_consent_provided submitted_via  date_sent         company_response  \\\n",
       "0                       NaN      Referral 2014-03-17  Closed with explanation   \n",
       "1          Consent provided           Web 2016-10-05  Closed with explanation   \n",
       "2          Consent provided           Web 2016-10-20  Closed with explanation   \n",
       "3                       NaN           Web 2014-06-10  Closed with explanation   \n",
       "4                       NaN           Web 2014-09-13  Closed with explanation   \n",
       "\n",
       "  timely_response consumer_disputed  complaint_id  \n",
       "0             Yes                No        759217  \n",
       "1             Yes                No       2141773  \n",
       "2             Yes                No       2163100  \n",
       "3             Yes               Yes        885638  \n",
       "4             Yes               Yes       1027760  "
      ]
     },
     "execution_count": 37,
     "metadata": {},
     "output_type": "execute_result"
    }
   ],
   "source": [
    "print(df.info())\n",
    "df.head()\n",
    "\n",
    "# as you can see, this is one heck of a messy data with null values everywhere\n",
    "# it may also have many outliers like -99999 and redundant values that have the \n",
    "# same meaning like 'Male', 'male', 'm', 'M'"
   ]
  },
  {
   "cell_type": "code",
   "execution_count": 38,
   "metadata": {},
   "outputs": [],
   "source": [
    "# later convert it into generator object\n",
    "\n",
    "# extract the columns that have null values\n",
    "# decide the relevancy of these columns \n",
    "# remove columns that are mostly empty\n",
    "null_cols = [col for col in df.columns if df[col].isnull().any()]\n",
    "\n",
    "# find the unique elements of each categorical column and try to minimize \n",
    "# redundant values with same meaning\n",
    "# also change the datatype from 'object' to 'categorical'\n",
    "\n",
    "\n",
    "# substitute 'product' values where ever 'sub_product' is null\n",
    "# substitute 'issue' values where ever 'sub_issue' is null\n",
    "# maybe apply NLP on 'complaint_narrative' if time is avalilable"
   ]
  },
  {
   "cell_type": "code",
   "execution_count": 39,
   "metadata": {},
   "outputs": [
    {
     "data": {
      "text/plain": [
       "['sub_product',\n",
       " 'sub_issue',\n",
       " 'complaint_narrative',\n",
       " 'company_public_response',\n",
       " 'state',\n",
       " 'zip_code',\n",
       " 'tags',\n",
       " 'consumer_consent_provided',\n",
       " 'consumer_disputed']"
      ]
     },
     "execution_count": 39,
     "metadata": {},
     "output_type": "execute_result"
    }
   ],
   "source": [
    "null_cols"
   ]
  },
  {
   "cell_type": "code",
   "execution_count": 40,
   "metadata": {},
   "outputs": [
    {
     "name": "stdout",
     "output_type": "stream",
     "text": [
      "sub_product  :  30.1\n",
      "sub_issue  :  59.42\n",
      "complaint_narrative  :  78.76\n",
      "company_public_response  :  72.88\n",
      "state  :  0.96\n",
      "zip_code  :  0.96\n",
      "tags  :  85.3\n",
      "consumer_consent_provided  :  60.18\n",
      "consumer_disputed  :  1.56\n"
     ]
    }
   ],
   "source": [
    "# percent of nan values in each column\n",
    "\n",
    "for col in null_cols:\n",
    "    print(col,\" : \",round(df[col].isnull().sum()/df[col].size * 100 ,3))"
   ]
  },
  {
   "cell_type": "markdown",
   "metadata": {},
   "source": [
    "## decide the relevance of the columns with null values"
   ]
  },
  {
   "cell_type": "code",
   "execution_count": 42,
   "metadata": {},
   "outputs": [
    {
     "data": {
      "text/html": [
       "<div>\n",
       "<style scoped>\n",
       "    .dataframe tbody tr th:only-of-type {\n",
       "        vertical-align: middle;\n",
       "    }\n",
       "\n",
       "    .dataframe tbody tr th {\n",
       "        vertical-align: top;\n",
       "    }\n",
       "\n",
       "    .dataframe thead th {\n",
       "        text-align: right;\n",
       "    }\n",
       "</style>\n",
       "<table border=\"1\" class=\"dataframe\">\n",
       "  <thead>\n",
       "    <tr style=\"text-align: right;\">\n",
       "      <th></th>\n",
       "      <th>product</th>\n",
       "      <th>sub_product</th>\n",
       "    </tr>\n",
       "  </thead>\n",
       "  <tbody>\n",
       "  </tbody>\n",
       "</table>\n",
       "</div>"
      ],
      "text/plain": [
       "Empty DataFrame\n",
       "Columns: [product, sub_product]\n",
       "Index: []"
      ]
     },
     "execution_count": 42,
     "metadata": {},
     "output_type": "execute_result"
    }
   ],
   "source": [
    "# check if 'product' and 'sub_product' are same in any row\n",
    "\n",
    "df[['product','sub_product']][df['product'] == df['sub_product']]\n",
    "\n",
    "# no same values\n",
    "# so we can fill 'product' values where 'sub_product' is null\n",
    "# that way, the user of this data will know that it was null previously"
   ]
  },
  {
   "cell_type": "code",
   "execution_count": 31,
   "metadata": {},
   "outputs": [],
   "source": [
    "#df['sub_product'].replace(np.nan, df['product'],inplace=True)"
   ]
  },
  {
   "cell_type": "code",
   "execution_count": 60,
   "metadata": {},
   "outputs": [],
   "source": [
    "# this method is way faster than replace\n",
    "\n",
    "df['sub_product'] = np.where(df['sub_product'].isnull(), df['product'], df['sub_product'])"
   ]
  },
  {
   "cell_type": "code",
   "execution_count": 62,
   "metadata": {},
   "outputs": [
    {
     "data": {
      "text/html": [
       "<div>\n",
       "<style scoped>\n",
       "    .dataframe tbody tr th:only-of-type {\n",
       "        vertical-align: middle;\n",
       "    }\n",
       "\n",
       "    .dataframe tbody tr th {\n",
       "        vertical-align: top;\n",
       "    }\n",
       "\n",
       "    .dataframe thead th {\n",
       "        text-align: right;\n",
       "    }\n",
       "</style>\n",
       "<table border=\"1\" class=\"dataframe\">\n",
       "  <thead>\n",
       "    <tr style=\"text-align: right;\">\n",
       "      <th></th>\n",
       "      <th>sub_product</th>\n",
       "    </tr>\n",
       "  </thead>\n",
       "  <tbody>\n",
       "  </tbody>\n",
       "</table>\n",
       "</div>"
      ],
      "text/plain": [
       "Empty DataFrame\n",
       "Columns: [sub_product]\n",
       "Index: []"
      ]
     },
     "execution_count": 62,
     "metadata": {},
     "output_type": "execute_result"
    }
   ],
   "source": [
    "df[['sub_product']][df['sub_product'].isnull()].head()"
   ]
  },
  {
   "cell_type": "code",
   "execution_count": 65,
   "metadata": {},
   "outputs": [
    {
     "data": {
      "text/html": [
       "<div>\n",
       "<style scoped>\n",
       "    .dataframe tbody tr th:only-of-type {\n",
       "        vertical-align: middle;\n",
       "    }\n",
       "\n",
       "    .dataframe tbody tr th {\n",
       "        vertical-align: top;\n",
       "    }\n",
       "\n",
       "    .dataframe thead th {\n",
       "        text-align: right;\n",
       "    }\n",
       "</style>\n",
       "<table border=\"1\" class=\"dataframe\">\n",
       "  <thead>\n",
       "    <tr style=\"text-align: right;\">\n",
       "      <th></th>\n",
       "      <th>issue</th>\n",
       "      <th>sub_issue</th>\n",
       "    </tr>\n",
       "  </thead>\n",
       "  <tbody>\n",
       "  </tbody>\n",
       "</table>\n",
       "</div>"
      ],
      "text/plain": [
       "Empty DataFrame\n",
       "Columns: [issue, sub_issue]\n",
       "Index: []"
      ]
     },
     "execution_count": 65,
     "metadata": {},
     "output_type": "execute_result"
    }
   ],
   "source": [
    "# check if 'issue' and 'sub_issue' are same in any row\n",
    "\n",
    "df[['issue','sub_issue']][df['issue'] == df['sub_issue']]\n",
    "\n",
    "# no same values\n",
    "# so we can fill 'issue' values where 'sub_issue' is null\n",
    "# that way, the user of this data will know that it was null previously"
   ]
  },
  {
   "cell_type": "code",
   "execution_count": 68,
   "metadata": {},
   "outputs": [],
   "source": [
    "df['sub_issue'] = np.where(df['sub_issue'].isnull(), df['issue'], df['sub_issue'])"
   ]
  },
  {
   "cell_type": "markdown",
   "metadata": {},
   "source": [
    "### are these two columns relevant? (apply nlp?) (too many null values)"
   ]
  },
  {
   "cell_type": "code",
   "execution_count": 74,
   "metadata": {},
   "outputs": [
    {
     "data": {
      "text/html": [
       "<div>\n",
       "<style scoped>\n",
       "    .dataframe tbody tr th:only-of-type {\n",
       "        vertical-align: middle;\n",
       "    }\n",
       "\n",
       "    .dataframe tbody tr th {\n",
       "        vertical-align: top;\n",
       "    }\n",
       "\n",
       "    .dataframe thead th {\n",
       "        text-align: right;\n",
       "    }\n",
       "</style>\n",
       "<table border=\"1\" class=\"dataframe\">\n",
       "  <thead>\n",
       "    <tr style=\"text-align: right;\">\n",
       "      <th></th>\n",
       "      <th>complaint_narrative</th>\n",
       "      <th>company_public_response</th>\n",
       "    </tr>\n",
       "  </thead>\n",
       "  <tbody>\n",
       "    <tr>\n",
       "      <th>0</th>\n",
       "      <td>NaN</td>\n",
       "      <td>NaN</td>\n",
       "    </tr>\n",
       "    <tr>\n",
       "      <th>1</th>\n",
       "      <td>I have outdated information on my credit repor...</td>\n",
       "      <td>Company has responded to the consumer and the ...</td>\n",
       "    </tr>\n",
       "    <tr>\n",
       "      <th>2</th>\n",
       "      <td>I purchased a new car on XXXX XXXX. The car de...</td>\n",
       "      <td>NaN</td>\n",
       "    </tr>\n",
       "    <tr>\n",
       "      <th>3</th>\n",
       "      <td>NaN</td>\n",
       "      <td>NaN</td>\n",
       "    </tr>\n",
       "    <tr>\n",
       "      <th>4</th>\n",
       "      <td>NaN</td>\n",
       "      <td>NaN</td>\n",
       "    </tr>\n",
       "    <tr>\n",
       "      <th>5</th>\n",
       "      <td>NaN</td>\n",
       "      <td>NaN</td>\n",
       "    </tr>\n",
       "    <tr>\n",
       "      <th>6</th>\n",
       "      <td>NaN</td>\n",
       "      <td>Company believes it acted appropriately as aut...</td>\n",
       "    </tr>\n",
       "    <tr>\n",
       "      <th>7</th>\n",
       "      <td>An account on my credit report has a mistaken ...</td>\n",
       "      <td>Company chooses not to provide a public response</td>\n",
       "    </tr>\n",
       "    <tr>\n",
       "      <th>8</th>\n",
       "      <td>NaN</td>\n",
       "      <td>Company believes it acted appropriately as aut...</td>\n",
       "    </tr>\n",
       "    <tr>\n",
       "      <th>9</th>\n",
       "      <td>NaN</td>\n",
       "      <td>NaN</td>\n",
       "    </tr>\n",
       "  </tbody>\n",
       "</table>\n",
       "</div>"
      ],
      "text/plain": [
       "                                 complaint_narrative  \\\n",
       "0                                                NaN   \n",
       "1  I have outdated information on my credit repor...   \n",
       "2  I purchased a new car on XXXX XXXX. The car de...   \n",
       "3                                                NaN   \n",
       "4                                                NaN   \n",
       "5                                                NaN   \n",
       "6                                                NaN   \n",
       "7  An account on my credit report has a mistaken ...   \n",
       "8                                                NaN   \n",
       "9                                                NaN   \n",
       "\n",
       "                             company_public_response  \n",
       "0                                                NaN  \n",
       "1  Company has responded to the consumer and the ...  \n",
       "2                                                NaN  \n",
       "3                                                NaN  \n",
       "4                                                NaN  \n",
       "5                                                NaN  \n",
       "6  Company believes it acted appropriately as aut...  \n",
       "7   Company chooses not to provide a public response  \n",
       "8  Company believes it acted appropriately as aut...  \n",
       "9                                                NaN  "
      ]
     },
     "execution_count": 74,
     "metadata": {},
     "output_type": "execute_result"
    }
   ],
   "source": [
    "# these two columns are irrelevant (i think so)\n",
    "\n",
    "df[['complaint_narrative', 'company_public_response']].head(10)"
   ]
  },
  {
   "cell_type": "markdown",
   "metadata": {},
   "source": [
    "### how can USA have 58 states?"
   ]
  },
  {
   "cell_type": "code",
   "execution_count": 154,
   "metadata": {},
   "outputs": [
    {
     "data": {
      "text/plain": [
       "(58,)"
      ]
     },
     "execution_count": 154,
     "metadata": {},
     "output_type": "execute_result"
    }
   ],
   "source": [
    "df['state'].unique().shape"
   ]
  },
  {
   "cell_type": "code",
   "execution_count": 157,
   "metadata": {},
   "outputs": [
    {
     "data": {
      "text/plain": [
       "(3455,)"
      ]
     },
     "execution_count": 157,
     "metadata": {},
     "output_type": "execute_result"
    }
   ],
   "source": [
    "df['zip_code'].unique().shape"
   ]
  },
  {
   "cell_type": "markdown",
   "metadata": {},
   "source": [
    "### there is probably an association between state and zip_code"
   ]
  },
  {
   "cell_type": "markdown",
   "metadata": {},
   "source": [
    "### tags column is completely irrelevant"
   ]
  },
  {
   "cell_type": "code",
   "execution_count": 161,
   "metadata": {},
   "outputs": [
    {
     "data": {
      "text/plain": [
       "array([nan, 'Older American', 'Servicemember',\n",
       "       'Older American, Servicemember'], dtype=object)"
      ]
     },
     "execution_count": 161,
     "metadata": {},
     "output_type": "execute_result"
    }
   ],
   "source": [
    "df['tags'].unique()"
   ]
  },
  {
   "cell_type": "code",
   "execution_count": 163,
   "metadata": {},
   "outputs": [],
   "source": [
    "df.drop(columns=['tags'], axis=1, inplace=True)"
   ]
  },
  {
   "cell_type": "markdown",
   "metadata": {},
   "source": [
    "### there is a relation between these 3 columns. That is, in each row, either they are all filled up or all null"
   ]
  },
  {
   "cell_type": "markdown",
   "metadata": {},
   "source": [
    "### check if there is a strong correlation between 'company_public_response' and 'consumer_consent_provided'\n",
    "look at the semantics of both"
   ]
  },
  {
   "cell_type": "code",
   "execution_count": 169,
   "metadata": {},
   "outputs": [
    {
     "data": {
      "text/html": [
       "<div>\n",
       "<style scoped>\n",
       "    .dataframe tbody tr th:only-of-type {\n",
       "        vertical-align: middle;\n",
       "    }\n",
       "\n",
       "    .dataframe tbody tr th {\n",
       "        vertical-align: top;\n",
       "    }\n",
       "\n",
       "    .dataframe thead th {\n",
       "        text-align: right;\n",
       "    }\n",
       "</style>\n",
       "<table border=\"1\" class=\"dataframe\">\n",
       "  <thead>\n",
       "    <tr style=\"text-align: right;\">\n",
       "      <th></th>\n",
       "      <th>complaint_narrative</th>\n",
       "      <th>company_public_response</th>\n",
       "      <th>consumer_consent_provided</th>\n",
       "    </tr>\n",
       "  </thead>\n",
       "  <tbody>\n",
       "    <tr>\n",
       "      <th>0</th>\n",
       "      <td>NaN</td>\n",
       "      <td>NaN</td>\n",
       "      <td>NaN</td>\n",
       "    </tr>\n",
       "    <tr>\n",
       "      <th>1</th>\n",
       "      <td>I have outdated information on my credit repor...</td>\n",
       "      <td>Company has responded to the consumer and the ...</td>\n",
       "      <td>Consent provided</td>\n",
       "    </tr>\n",
       "    <tr>\n",
       "      <th>2</th>\n",
       "      <td>I purchased a new car on XXXX XXXX. The car de...</td>\n",
       "      <td>NaN</td>\n",
       "      <td>Consent provided</td>\n",
       "    </tr>\n",
       "    <tr>\n",
       "      <th>3</th>\n",
       "      <td>NaN</td>\n",
       "      <td>NaN</td>\n",
       "      <td>NaN</td>\n",
       "    </tr>\n",
       "    <tr>\n",
       "      <th>4</th>\n",
       "      <td>NaN</td>\n",
       "      <td>NaN</td>\n",
       "      <td>NaN</td>\n",
       "    </tr>\n",
       "    <tr>\n",
       "      <th>5</th>\n",
       "      <td>NaN</td>\n",
       "      <td>NaN</td>\n",
       "      <td>NaN</td>\n",
       "    </tr>\n",
       "    <tr>\n",
       "      <th>6</th>\n",
       "      <td>NaN</td>\n",
       "      <td>Company believes it acted appropriately as aut...</td>\n",
       "      <td>Consent not provided</td>\n",
       "    </tr>\n",
       "    <tr>\n",
       "      <th>7</th>\n",
       "      <td>An account on my credit report has a mistaken ...</td>\n",
       "      <td>Company chooses not to provide a public response</td>\n",
       "      <td>Consent provided</td>\n",
       "    </tr>\n",
       "    <tr>\n",
       "      <th>8</th>\n",
       "      <td>NaN</td>\n",
       "      <td>Company believes it acted appropriately as aut...</td>\n",
       "      <td>NaN</td>\n",
       "    </tr>\n",
       "    <tr>\n",
       "      <th>9</th>\n",
       "      <td>NaN</td>\n",
       "      <td>NaN</td>\n",
       "      <td>NaN</td>\n",
       "    </tr>\n",
       "  </tbody>\n",
       "</table>\n",
       "</div>"
      ],
      "text/plain": [
       "                                 complaint_narrative  \\\n",
       "0                                                NaN   \n",
       "1  I have outdated information on my credit repor...   \n",
       "2  I purchased a new car on XXXX XXXX. The car de...   \n",
       "3                                                NaN   \n",
       "4                                                NaN   \n",
       "5                                                NaN   \n",
       "6                                                NaN   \n",
       "7  An account on my credit report has a mistaken ...   \n",
       "8                                                NaN   \n",
       "9                                                NaN   \n",
       "\n",
       "                             company_public_response consumer_consent_provided  \n",
       "0                                                NaN                       NaN  \n",
       "1  Company has responded to the consumer and the ...          Consent provided  \n",
       "2                                                NaN          Consent provided  \n",
       "3                                                NaN                       NaN  \n",
       "4                                                NaN                       NaN  \n",
       "5                                                NaN                       NaN  \n",
       "6  Company believes it acted appropriately as aut...      Consent not provided  \n",
       "7   Company chooses not to provide a public response          Consent provided  \n",
       "8  Company believes it acted appropriately as aut...                       NaN  \n",
       "9                                                NaN                       NaN  "
      ]
     },
     "execution_count": 169,
     "metadata": {},
     "output_type": "execute_result"
    }
   ],
   "source": [
    "df[['complaint_narrative', 'company_public_response', 'consumer_consent_provided']].head(10)"
   ]
  },
  {
   "cell_type": "code",
   "execution_count": 171,
   "metadata": {},
   "outputs": [
    {
     "data": {
      "text/plain": [
       "array(['No', 'Yes', nan], dtype=object)"
      ]
     },
     "execution_count": 171,
     "metadata": {},
     "output_type": "execute_result"
    }
   ],
   "source": []
  },
  {
   "cell_type": "code",
   "execution_count": null,
   "metadata": {},
   "outputs": [],
   "source": []
  },
  {
   "cell_type": "code",
   "execution_count": null,
   "metadata": {},
   "outputs": [],
   "source": []
  },
  {
   "cell_type": "code",
   "execution_count": 164,
   "metadata": {},
   "outputs": [
    {
     "name": "stdout",
     "output_type": "stream",
     "text": [
      "<class 'pandas.core.frame.DataFrame'>\n",
      "RangeIndex: 5000 entries, 0 to 4999\n",
      "Data columns (total 17 columns):\n",
      "date_received                5000 non-null datetime64[ns]\n",
      "product                      5000 non-null category\n",
      "sub_product                  5000 non-null category\n",
      "issue                        5000 non-null category\n",
      "sub_issue                    5000 non-null category\n",
      "complaint_narrative          1062 non-null object\n",
      "company_public_response      1356 non-null category\n",
      "company                      5000 non-null category\n",
      "state                        4952 non-null category\n",
      "zip_code                     4952 non-null object\n",
      "consumer_consent_provided    1991 non-null object\n",
      "submitted_via                5000 non-null object\n",
      "date_sent                    5000 non-null datetime64[ns]\n",
      "company_response             5000 non-null object\n",
      "timely_response              5000 non-null object\n",
      "consumer_disputed            4922 non-null object\n",
      "complaint_id                 5000 non-null int64\n",
      "dtypes: category(7), datetime64[ns](2), int64(1), object(7)\n",
      "memory usage: 478.6+ KB\n"
     ]
    }
   ],
   "source": [
    "df.info()"
   ]
  },
  {
   "cell_type": "markdown",
   "metadata": {},
   "source": [
    "## relevancy check ends here"
   ]
  },
  {
   "cell_type": "markdown",
   "metadata": {},
   "source": [
    "## change the dtype of columns"
   ]
  },
  {
   "cell_type": "code",
   "execution_count": 120,
   "metadata": {},
   "outputs": [
    {
     "name": "stdout",
     "output_type": "stream",
     "text": [
      "(1617,) date_received\n",
      "(15,) product\n",
      "(56,) sub_product\n",
      "(102,) issue\n",
      "(151,) sub_issue\n",
      "(1061,) complaint_narrative\n",
      "(11,) company_public_response\n",
      "(635,) company\n",
      "(58,) state\n",
      "(3455,) zip_code\n",
      "(4,) tags\n",
      "(5,) consumer_consent_provided\n",
      "(6,) submitted_via\n",
      "(1527,) date_sent\n",
      "(7,) company_response\n",
      "(2,) timely_response\n",
      "(3,) consumer_disputed\n",
      "(5000,) complaint_id\n"
     ]
    }
   ],
   "source": [
    "for col in df.columns:\n",
    "    print(df[col].unique().shape, col)"
   ]
  },
  {
   "cell_type": "code",
   "execution_count": null,
   "metadata": {},
   "outputs": [],
   "source": [
    "# the list is incomplete\n",
    "cat_cols = ['product', 'sub_product', 'issue', 'sub_issue', 'company_public_response', 'company', 'state']\n",
    "\n",
    "# automate the selection by looking at the percentage of non null values and the unique values "
   ]
  },
  {
   "cell_type": "code",
   "execution_count": null,
   "metadata": {},
   "outputs": [],
   "source": []
  },
  {
   "cell_type": "code",
   "execution_count": null,
   "metadata": {},
   "outputs": [],
   "source": []
  },
  {
   "cell_type": "code",
   "execution_count": null,
   "metadata": {},
   "outputs": [],
   "source": []
  },
  {
   "cell_type": "markdown",
   "metadata": {},
   "source": [
    "## dtype changing ends here"
   ]
  },
  {
   "cell_type": "markdown",
   "metadata": {},
   "source": [
    "## check for outliers"
   ]
  },
  {
   "cell_type": "code",
   "execution_count": null,
   "metadata": {},
   "outputs": [],
   "source": []
  },
  {
   "cell_type": "code",
   "execution_count": null,
   "metadata": {},
   "outputs": [],
   "source": []
  },
  {
   "cell_type": "code",
   "execution_count": null,
   "metadata": {},
   "outputs": [],
   "source": []
  },
  {
   "cell_type": "code",
   "execution_count": null,
   "metadata": {},
   "outputs": [],
   "source": []
  },
  {
   "cell_type": "markdown",
   "metadata": {},
   "source": [
    "## outliers check ends here"
   ]
  },
  {
   "cell_type": "code",
   "execution_count": null,
   "metadata": {},
   "outputs": [],
   "source": []
  },
  {
   "cell_type": "code",
   "execution_count": null,
   "metadata": {},
   "outputs": [],
   "source": [
    "df.columns"
   ]
  },
  {
   "cell_type": "code",
   "execution_count": null,
   "metadata": {},
   "outputs": [],
   "source": [
    "categorical_cols = [\"product\",\"sub_product\",\"issue\",\"sub_issue\",\"company_public_response\",\"company\",\"state\",\"zip_code\",\n",
    "                    \"tags\",\"consumer_consent\",\"submitted_way\",\"company_response\",\"timely_response\",\"consumer_disputed\"]"
   ]
  },
  {
   "cell_type": "code",
   "execution_count": null,
   "metadata": {},
   "outputs": [],
   "source": [
    "for col in categorical_cols :\n",
    "    df[col] = df[col].astype(\"category\")"
   ]
  },
  {
   "cell_type": "code",
   "execution_count": null,
   "metadata": {},
   "outputs": [],
   "source": [
    "df.info()"
   ]
  },
  {
   "cell_type": "code",
   "execution_count": null,
   "metadata": {},
   "outputs": [],
   "source": [
    "# # percent of nan values in each column\n",
    "\n",
    "# for col in null_cols:\n",
    "#     print(col,\" : \",round(df[col].isnull().sum()/df[col].size * 100 ,3))"
   ]
  },
  {
   "cell_type": "code",
   "execution_count": null,
   "metadata": {},
   "outputs": [],
   "source": [
    "df.head()"
   ]
  },
  {
   "cell_type": "code",
   "execution_count": null,
   "metadata": {},
   "outputs": [],
   "source": [
    "# the top 10 zip codes with most complaints\n",
    "df[\"zip_code\"].value_counts()[:10]"
   ]
  },
  {
   "cell_type": "code",
   "execution_count": null,
   "metadata": {},
   "outputs": [],
   "source": [
    "list(df[\"zip_code\"].value_counts()[:10].index)"
   ]
  },
  {
   "cell_type": "code",
   "execution_count": null,
   "metadata": {},
   "outputs": [],
   "source": [
    "# states corresponding the above zip codes\n",
    "\n",
    "list(df[\"state\"][df[\"zip_code\"].isin(list(df[\"zip_code\"].value_counts()[:10].index))].unique())\n",
    "\n",
    "# find out if these states have any spatial relation (use folium for maps)"
   ]
  },
  {
   "cell_type": "code",
   "execution_count": null,
   "metadata": {},
   "outputs": [],
   "source": []
  }
 ],
 "metadata": {
  "kernelspec": {
   "display_name": "Python 3",
   "language": "python",
   "name": "python3"
  },
  "language_info": {
   "codemirror_mode": {
    "name": "ipython",
    "version": 3
   },
   "file_extension": ".py",
   "mimetype": "text/x-python",
   "name": "python",
   "nbconvert_exporter": "python",
   "pygments_lexer": "ipython3",
   "version": "3.6.6"
  }
 },
 "nbformat": 4,
 "nbformat_minor": 2
}
