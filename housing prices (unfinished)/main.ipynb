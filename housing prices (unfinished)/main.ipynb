{
 "cells": [
  {
   "cell_type": "code",
   "execution_count": null,
   "metadata": {},
   "outputs": [],
   "source": [
    "from IPython.core.interactiveshell import InteractiveShell\n",
    "InteractiveShell.ast_node_interactivity = \"all\""
   ]
  },
  {
   "cell_type": "code",
   "execution_count": null,
   "metadata": {},
   "outputs": [],
   "source": [
    "import numpy as np\n",
    "import pandas as pd\n",
    "import matplotlib.pyplot as plt\n",
    "import xgboost as xgb\n",
    "\n",
    "%matplotlib inline"
   ]
  },
  {
   "cell_type": "code",
   "execution_count": null,
   "metadata": {},
   "outputs": [],
   "source": [
    "train_path = r'C:\\Users\\Admin\\Desktop\\program\\Projects\\kaggle\\housing prices\\train.csv'\n",
    "test_path = r'C:\\Users\\Admin\\Desktop\\program\\Projects\\kaggle\\housing prices\\test.csv'"
   ]
  },
  {
   "cell_type": "code",
   "execution_count": null,
   "metadata": {},
   "outputs": [],
   "source": [
    "df = pd.read_csv(train_path)"
   ]
  },
  {
   "cell_type": "code",
   "execution_count": null,
   "metadata": {
    "scrolled": true
   },
   "outputs": [],
   "source": [
    "df.info()\n",
    "df.head(10)"
   ]
  },
  {
   "cell_type": "code",
   "execution_count": null,
   "metadata": {},
   "outputs": [],
   "source": [
    "cols_to_drop = ['Id' ,'Alley', 'PoolQC', 'Fence', 'MiscFeature', 'FireplaceQu']\n",
    "\n",
    "# dropping columns with low support\n",
    "df.drop(columns = cols_to_drop, inplace=True)"
   ]
  },
  {
   "cell_type": "code",
   "execution_count": null,
   "metadata": {},
   "outputs": [],
   "source": [
    "# removing the outliers\n",
    "\n",
    "for col in df.columns:\n",
    "    if df[col].dtype != 'O':\n",
    "        df[col][np.abs(df[col]-df[col].mean()) > (3*df[col].std())] = np.nan"
   ]
  },
  {
   "cell_type": "code",
   "execution_count": null,
   "metadata": {
    "scrolled": true
   },
   "outputs": [],
   "source": [
    "df.info()\n",
    "df.head()"
   ]
  },
  {
   "cell_type": "code",
   "execution_count": null,
   "metadata": {
    "scrolled": true
   },
   "outputs": [],
   "source": [
    "# for col in df.columns[:-1]:\n",
    "#     if (df[col].dtype == 'O') or (round(df[col].unique().shape[0]*100/df[col].count(), 2) <= 4):\n",
    "#         df[[col, 'SalePrice']].groupby([col]).mean().T.plot(kind='bar', colormap='Spectral')\n",
    "#     else:\n",
    "#         df.plot(x=col, y='SalePrice', kind='scatter')\n",
    "#     plt.title(\"Average sales price wrt. {} | support:{}\".format(col,df[col].count()))"
   ]
  },
  {
   "cell_type": "code",
   "execution_count": null,
   "metadata": {
    "scrolled": true
   },
   "outputs": [],
   "source": [
    "for col in df.columns[:-1]:\n",
    "    \n",
    "    if (df[col].dtype == 'O'):\n",
    "        df[[col, 'SalePrice']].groupby([col]).mean().T.plot(kind='bar', colormap='Spectral', figsize=(7,5))\n",
    "        plt.title(\"Average sales price wrt. {} | support:{}\".format(col,df[col].count()))\n",
    "        \n",
    "    elif (round(df[col].unique().shape[0]*100/df[col].count(), 2) <= 4):\n",
    "        fig, axes = plt.subplots(nrows=1, ncols=2)        \n",
    "        df.boxplot(column=['SalePrice'], by=col, ax=axes[0], figsize=(20,5))\n",
    "        df[[col, 'SalePrice']].groupby([col]).mean().T.plot(kind='bar', colormap='Spectral', ax=axes[1], figsize=(20,5))\n",
    "        \n",
    "    else:\n",
    "        df.plot(x=col, y='SalePrice', kind='scatter', figsize=(7,5))\n",
    "        plt.title(\"Average sales price wrt. {} | support:{}\".format(col,df[col].count()))"
   ]
  },
  {
   "cell_type": "code",
   "execution_count": null,
   "metadata": {},
   "outputs": [],
   "source": [
    "''' Modify or remove these columns '''\n",
    "\n",
    "# LandSlope -- less difference\n",
    "# YearBuilt\n",
    "# YearRemodAdd\n",
    "# MasVnrArea -- too many zeros & blob | corr\n",
    "# BsmtFinSF1 -- too many zeros & corr\n",
    "# BsmtFinSF2 \n",
    "# BsmtUnfSF\n",
    "# TotalBsmtSF -- too many zeros & corr\n",
    "# 2ndFlrSF -- too many zeros & corr\n",
    "# BsmtHalfBath -- less difference\n",
    "# GarageYrBlt\n",
    "# GarageArea -- too many zeros & corr\n",
    "# WoodDeckSF -- too many zeros & corr\n",
    "# OpenPorchSF -- too many zeros & blob | corr\n",
    "# EnclosedPorch \n",
    "# ScreenPorch\n",
    "# MoSold -- no difference\n",
    "# YrSold -- no difference"
   ]
  },
  {
   "cell_type": "code",
   "execution_count": null,
   "metadata": {},
   "outputs": [],
   "source": [
    "# cols_to_drop = ['BsmtFinSF2', 'BsmtUnfSF', \n",
    "#                 'GarageYrBlt', 'EnclosedPorch', \n",
    "#                 'ScreenPorch', 'MoSold', 'YrSold', 'Id']"
   ]
  },
  {
   "cell_type": "code",
   "execution_count": null,
   "metadata": {},
   "outputs": [],
   "source": [
    "# # set all the rows containing zero values in these columns with null \n",
    "# # sample from the column data and fill those values in place of null\n",
    "\n",
    "# cols_set_zero = ['BsmtFinSF1', 'TotalBsmtSF', '2ndFlrSF', \n",
    "#                  'GarageArea', 'WoodDeckSF']"
   ]
  },
  {
   "cell_type": "code",
   "execution_count": null,
   "metadata": {},
   "outputs": [],
   "source": []
  },
  {
   "cell_type": "code",
   "execution_count": null,
   "metadata": {},
   "outputs": [],
   "source": []
  },
  {
   "cell_type": "code",
   "execution_count": null,
   "metadata": {},
   "outputs": [],
   "source": []
  },
  {
   "cell_type": "code",
   "execution_count": null,
   "metadata": {},
   "outputs": [],
   "source": []
  }
 ],
 "metadata": {
  "kernelspec": {
   "display_name": "Python 3",
   "language": "python",
   "name": "python3"
  },
  "language_info": {
   "codemirror_mode": {
    "name": "ipython",
    "version": 3
   },
   "file_extension": ".py",
   "mimetype": "text/x-python",
   "name": "python",
   "nbconvert_exporter": "python",
   "pygments_lexer": "ipython3",
   "version": "3.6.6"
  }
 },
 "nbformat": 4,
 "nbformat_minor": 2
}
